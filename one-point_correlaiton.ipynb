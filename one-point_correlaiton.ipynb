{
 "cells": [
  {
   "cell_type": "code",
   "execution_count": 1,
   "metadata": {},
   "outputs": [],
   "source": [
    "import numpy as np\n",
    "import scipy as sp\n",
    "import numpy.random as rm\n",
    "import matplotlib.pyplot as plt\n",
    "import pandas as pd"
   ]
  },
  {
   "cell_type": "markdown",
   "metadata": {},
   "source": [
    "This simple code create a collection of *1-d* arrays of 0 and 1 representing realization of a random stochastic process which describe the structure of a porous material with given porosity $ \\phi_{i} $, with $ i = \\{0,1\\}$ respectively the void phase, of volume $ V_0$, and solid phase, of volume $ V_1 = V - V_0$ .\n",
    "The distribution recall the values of an indicator function for an hetereogeneous material:\n",
    "\n",
    "$$\n",
    "I^{(i)}(x) =\n",
    "\\left\\{\n",
    "\t\\begin{array}{ll}\n",
    "\t\t1  & \\mbox{if } x \\in  V_{i} \\\\\n",
    "\t\t0 & \\mbox{otherwise }\n",
    "\t\\end{array}\n",
    "\\right.\n",
    "$$\n"
   ]
  },
  {
   "cell_type": "markdown",
   "metadata": {},
   "source": [
    "The 1-point correllation  for this system have the following properties: $$ S^{i}_1 = \\big \\langle{I^{(i)}(x)} \\big  \\rangle = P \\Big\\{ {I^{(i)}(x) = 1} \\Big\\}$$"
   ]
  },
  {
   "cell_type": "markdown",
   "metadata": {},
   "source": [
    "Source: *Torquato, Salvatore, and H. W. Haslach Jr. \"Random heterogeneous materials: microstructure and macroscopic properties.\" Appl. Mech. Rev. 55.4 (2002): B62-B63.*"
   ]
  },
  {
   "cell_type": "code",
   "execution_count": 2,
   "metadata": {},
   "outputs": [],
   "source": [
    "#number of points\n",
    "x = 50\n",
    "\n",
    "# number of realizations of the random process\n",
    "# the greater the more accurate !\n",
    "row = 1000\n",
    "\n",
    "# porosity == void fraction == probability of phase 0\n",
    "phi_0 = 0.83\n"
   ]
  },
  {
   "cell_type": "code",
   "execution_count": 5,
   "metadata": {
    "code_folding": []
   },
   "outputs": [],
   "source": [
    "# Random process matrix dimensions(row,x)\n",
    "m = rm.choice(2,(row,x),p=[phi_0,1-phi_0])\n",
    "\n",
    "# mean of each array == porosity of each realization\n",
    "row_mean = np.mean(m,1)\n",
    "mean_of_means = np.mean(row_mean)\n",
    "\n",
    "# Global mean == Ensamble mean \n",
    "ens_mean = np.mean(m)\n",
    "\n",
    "# Mean by x-position\n",
    "x_mean = np.mean(m,0)\n",
    "x_mean_df = pd.DataFrame(x_mean,columns={'x-mean'})\n",
    "x_mean_df.index.name = 'x-position'\n",
    "\n",
    "# % of null array\n",
    "n_zero, = np.where((m == np.zeros(x)).all(axis=1))\n",
    "perc_null = n_zero.shape[0]/m.shape[0] * 100"
   ]
  },
  {
   "cell_type": "markdown",
   "metadata": {},
   "source": [
    "### Results"
   ]
  },
  {
   "cell_type": "code",
   "execution_count": 6,
   "metadata": {
    "code_folding": [
     0
    ]
   },
   "outputs": [
    {
     "name": "stdout",
     "output_type": "stream",
     "text": [
      "Ensable mean is = 0.172\n",
      "Average of means of each row: 0.172\n",
      "The two means coincide --> Ergodic system\n",
      "\n",
      "\n",
      "Means by x-position (first 15 positions, out of 50 )\n",
      "            x-mean\n",
      "x-position        \n",
      "0            0.155\n",
      "1            0.159\n",
      "2            0.198\n",
      "3            0.156\n",
      "4            0.183\n",
      "5            0.191\n",
      "6            0.177\n",
      "7            0.171\n",
      "8            0.155\n",
      "9            0.179\n",
      "10           0.183\n",
      "11           0.165\n",
      "12           0.157\n",
      "13           0.169\n",
      "14           0.162\n",
      "\n",
      "The percentage of null arrays is = 0.0 %\n"
     ]
    }
   ],
   "source": [
    "# Print the results\n",
    "print('Ensable mean is =','{:.3f}'.format(ens_mean))\n",
    "print('Average of means of each row:', '{:.3f}'.format(mean_of_means))\n",
    "print('The two means coincide --> Ergodic system')\n",
    "print('\\n')\n",
    "\n",
    "# first n-th positions\n",
    "nth = 15\n",
    "print('Means by x-position (first', nth,'positions, out of', x,')')\n",
    "print(x_mean_df.iloc[:nth,:])\n",
    "\n",
    "print('\\nThe percentage of null arrays is =',perc_null,'%')\n"
   ]
  },
  {
   "cell_type": "markdown",
   "metadata": {},
   "source": [
    "### Row means distribution in the matrix\n",
    "How the porosity value for each realization is differently distributed in the matrix"
   ]
  },
  {
   "cell_type": "code",
   "execution_count": 9,
   "metadata": {},
   "outputs": [
    {
     "data": {
      "image/png": "[encoded data removed]",
      "text/plain": [
       "<Figure size 432x288 with 1 Axes>"
      ]
     },
     "metadata": {
      "needs_background": "light"
     },
     "output_type": "display_data"
    }
   ],
   "source": [
    "# number of beans in the histogram (Sturges' formula)\n",
    "n_bins = int(np.rint(np.log2(row_mean.shape[0]) + 1))\n",
    "# histogram\n",
    "histogram = plt.hist(row_mean,bins=n_bins)\n",
    "x_lab = plt.xlabel('Average solid fraction by realiztion')\n",
    "y_lab = plt.ylabel('Counts of realizations')\n"
   ]
  },
  {
   "cell_type": "code",
   "execution_count": null,
   "metadata": {},
   "outputs": [],
   "source": []
  }
 ],
 "metadata": {
  "kernelspec": {
   "display_name": "Python 3",
   "language": "python",
   "name": "python3"
  },
  "language_info": {
   "codemirror_mode": {
    "name": "ipython",
    "version": 3
   },
   "file_extension": ".py",
   "mimetype": "text/x-python",
   "name": "python",
   "nbconvert_exporter": "python",
   "pygments_lexer": "ipython3",
   "version": "3.7.7"
  },
  "latex_envs": {
   "LaTeX_envs_menu_present": true,
   "autoclose": false,
   "autocomplete": true,
   "bibliofile": "biblio.bib",
   "cite_by": "apalike",
   "current_citInitial": 1,
   "eqLabelWithNumbers": true,
   "eqNumInitial": 1,
   "hotkeys": {
    "equation": "Ctrl-E",
    "itemize": "Ctrl-I"
   },
   "labels_anchors": false,
   "latex_user_defs": false,
   "report_style_numbering": false,
   "user_envs_cfg": false
  },
  "varInspector": {
   "cols": {
    "lenName": 16,
    "lenType": 16,
    "lenVar": 40
   },
   "kernels_config": {
    "python": {
     "delete_cmd_postfix": "",
     "delete_cmd_prefix": "del ",
     "library": "var_list.py",
     "varRefreshCmd": "print(var_dic_list())"
    },
    "r": {
     "delete_cmd_postfix": ") ",
     "delete_cmd_prefix": "rm(",
     "library": "var_list.r",
     "varRefreshCmd": "cat(var_dic_list()) "
    }
   },
   "position": {
    "height": "743px",
    "left": "819px",
    "right": "20px",
    "top": "163px",
    "width": "800px"
   },
   "types_to_exclude": [
    "module",
    "function",
    "builtin_function_or_method",
    "instance",
    "_Feature"
   ],
   "window_display": false
  }
 },
 "nbformat": 4,
 "nbformat_minor": 4
}
